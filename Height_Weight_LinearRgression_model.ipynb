{
 "cells": [
  {
   "cell_type": "code",
   "execution_count": 1,
   "id": "c912ff28",
   "metadata": {},
   "outputs": [],
   "source": [
    "#loading required libraries\n",
    "import pandas as pd\n",
    "import numpy as np\n",
    "import matplotlib.pyplot as plt\n",
    "%matplotlib inline\n",
    "import seaborn as sns"
   ]
  },
  {
   "cell_type": "code",
   "execution_count": 2,
   "id": "126207f3",
   "metadata": {},
   "outputs": [],
   "source": [
    "#load data\n",
    "data=pd.read_csv(\"Height-Weight Data.csv\")"
   ]
  },
  {
   "cell_type": "code",
   "execution_count": 3,
   "id": "a39f262c",
   "metadata": {},
   "outputs": [],
   "source": [
    "df=data.copy()"
   ]
  },
  {
   "cell_type": "code",
   "execution_count": 4,
   "id": "cf6e5954",
   "metadata": {},
   "outputs": [
    {
     "data": {
      "text/html": [
       "<div>\n",
       "<style scoped>\n",
       "    .dataframe tbody tr th:only-of-type {\n",
       "        vertical-align: middle;\n",
       "    }\n",
       "\n",
       "    .dataframe tbody tr th {\n",
       "        vertical-align: top;\n",
       "    }\n",
       "\n",
       "    .dataframe thead th {\n",
       "        text-align: right;\n",
       "    }\n",
       "</style>\n",
       "<table border=\"1\" class=\"dataframe\">\n",
       "  <thead>\n",
       "    <tr style=\"text-align: right;\">\n",
       "      <th></th>\n",
       "      <th>Height</th>\n",
       "      <th>Weight</th>\n",
       "    </tr>\n",
       "  </thead>\n",
       "  <tbody>\n",
       "    <tr>\n",
       "      <th>0</th>\n",
       "      <td>73.847017</td>\n",
       "      <td>241.893563</td>\n",
       "    </tr>\n",
       "    <tr>\n",
       "      <th>1</th>\n",
       "      <td>68.781904</td>\n",
       "      <td>162.310473</td>\n",
       "    </tr>\n",
       "    <tr>\n",
       "      <th>2</th>\n",
       "      <td>74.110105</td>\n",
       "      <td>212.740856</td>\n",
       "    </tr>\n",
       "    <tr>\n",
       "      <th>3</th>\n",
       "      <td>71.730978</td>\n",
       "      <td>220.042470</td>\n",
       "    </tr>\n",
       "    <tr>\n",
       "      <th>4</th>\n",
       "      <td>69.881796</td>\n",
       "      <td>206.349801</td>\n",
       "    </tr>\n",
       "  </tbody>\n",
       "</table>\n",
       "</div>"
      ],
      "text/plain": [
       "      Height      Weight\n",
       "0  73.847017  241.893563\n",
       "1  68.781904  162.310473\n",
       "2  74.110105  212.740856\n",
       "3  71.730978  220.042470\n",
       "4  69.881796  206.349801"
      ]
     },
     "execution_count": 4,
     "metadata": {},
     "output_type": "execute_result"
    }
   ],
   "source": [
    "df.head()#dispaly first 5 rows"
   ]
  },
  {
   "cell_type": "code",
   "execution_count": 5,
   "id": "15fee1ac",
   "metadata": {},
   "outputs": [
    {
     "data": {
      "text/html": [
       "<div>\n",
       "<style scoped>\n",
       "    .dataframe tbody tr th:only-of-type {\n",
       "        vertical-align: middle;\n",
       "    }\n",
       "\n",
       "    .dataframe tbody tr th {\n",
       "        vertical-align: top;\n",
       "    }\n",
       "\n",
       "    .dataframe thead th {\n",
       "        text-align: right;\n",
       "    }\n",
       "</style>\n",
       "<table border=\"1\" class=\"dataframe\">\n",
       "  <thead>\n",
       "    <tr style=\"text-align: right;\">\n",
       "      <th></th>\n",
       "      <th>Height</th>\n",
       "      <th>Weight</th>\n",
       "    </tr>\n",
       "  </thead>\n",
       "  <tbody>\n",
       "    <tr>\n",
       "      <th>count</th>\n",
       "      <td>3501.000000</td>\n",
       "      <td>3501.000000</td>\n",
       "    </tr>\n",
       "    <tr>\n",
       "      <th>mean</th>\n",
       "      <td>69.024411</td>\n",
       "      <td>186.891258</td>\n",
       "    </tr>\n",
       "    <tr>\n",
       "      <th>std</th>\n",
       "      <td>2.858583</td>\n",
       "      <td>19.903132</td>\n",
       "    </tr>\n",
       "    <tr>\n",
       "      <th>min</th>\n",
       "      <td>59.380650</td>\n",
       "      <td>65.780000</td>\n",
       "    </tr>\n",
       "    <tr>\n",
       "      <th>25%</th>\n",
       "      <td>67.193523</td>\n",
       "      <td>173.896237</td>\n",
       "    </tr>\n",
       "    <tr>\n",
       "      <th>50%</th>\n",
       "      <td>69.044211</td>\n",
       "      <td>187.308370</td>\n",
       "    </tr>\n",
       "    <tr>\n",
       "      <th>75%</th>\n",
       "      <td>70.976491</td>\n",
       "      <td>200.356448</td>\n",
       "    </tr>\n",
       "    <tr>\n",
       "      <th>max</th>\n",
       "      <td>78.998742</td>\n",
       "      <td>269.989698</td>\n",
       "    </tr>\n",
       "  </tbody>\n",
       "</table>\n",
       "</div>"
      ],
      "text/plain": [
       "            Height       Weight\n",
       "count  3501.000000  3501.000000\n",
       "mean     69.024411   186.891258\n",
       "std       2.858583    19.903132\n",
       "min      59.380650    65.780000\n",
       "25%      67.193523   173.896237\n",
       "50%      69.044211   187.308370\n",
       "75%      70.976491   200.356448\n",
       "max      78.998742   269.989698"
      ]
     },
     "execution_count": 5,
     "metadata": {},
     "output_type": "execute_result"
    }
   ],
   "source": [
    "df.describe() #display the statistic value"
   ]
  },
  {
   "cell_type": "code",
   "execution_count": 6,
   "id": "3124baee",
   "metadata": {},
   "outputs": [
    {
     "data": {
      "text/plain": [
       "(3501, 2)"
      ]
     },
     "execution_count": 6,
     "metadata": {},
     "output_type": "execute_result"
    }
   ],
   "source": [
    "df.shape #dispaly the number of rows and columns"
   ]
  },
  {
   "cell_type": "code",
   "execution_count": 7,
   "id": "05db851b",
   "metadata": {},
   "outputs": [
    {
     "data": {
      "text/plain": [
       "Height    0\n",
       "Weight    0\n",
       "dtype: int64"
      ]
     },
     "execution_count": 7,
     "metadata": {},
     "output_type": "execute_result"
    }
   ],
   "source": [
    "df.isnull().sum() #display the number of NA values"
   ]
  },
  {
   "cell_type": "code",
   "execution_count": 8,
   "id": "61718ab6",
   "metadata": {},
   "outputs": [
    {
     "data": {
      "text/plain": [
       "0    73.847017\n",
       "1    68.781904\n",
       "2    74.110105\n",
       "3    71.730978\n",
       "4    69.881796\n",
       "Name: Height, dtype: float64"
      ]
     },
     "execution_count": 8,
     "metadata": {},
     "output_type": "execute_result"
    }
   ],
   "source": [
    "df.Height.head()#dispaly the 5 rows of Height data"
   ]
  },
  {
   "cell_type": "code",
   "execution_count": 9,
   "id": "e0415c49",
   "metadata": {},
   "outputs": [
    {
     "data": {
      "text/plain": [
       "0    241.893563\n",
       "1    162.310473\n",
       "2    212.740856\n",
       "3    220.042470\n",
       "4    206.349801\n",
       "Name: Weight, dtype: float64"
      ]
     },
     "execution_count": 9,
     "metadata": {},
     "output_type": "execute_result"
    }
   ],
   "source": [
    "df.Weight.head()#dispaly the 5 rows of Weight data"
   ]
  },
  {
   "cell_type": "markdown",
   "id": "dbd60b72",
   "metadata": {},
   "source": [
    "# Data Visulization"
   ]
  },
  {
   "cell_type": "code",
   "execution_count": 10,
   "id": "6db29cc1",
   "metadata": {},
   "outputs": [
    {
     "data": {
      "image/png": "[encoded data removed]",
      "text/plain": [
       "<Figure size 720x648 with 1 Axes>"
      ]
     },
     "metadata": {
      "needs_background": "light"
     },
     "output_type": "display_data"
    }
   ],
   "source": [
    "#display the scatter plot\n",
    "plt.figure(figsize=(10,9))\n",
    "#plt.scatter(df['Height'],df['Weight'])\n",
    "plt.scatter(df.Height,df.Weight)\n",
    "plt.title(\"Height vs Weight\",fontsize=16,fontweight='bold',color='gray')\n",
    "plt.xlabel(\"Height\",fontsize=13,fontweight='bold',color='black')\n",
    "plt.ylabel(\"Weight\",fontsize=13,fontweight='bold',color='red')\n",
    "plt.xlim(60,83,2)\n",
    "plt.savefig('diet.png')\n",
    "plt.show()"
   ]
  },
  {
   "cell_type": "markdown",
   "id": "ea9caa8a",
   "metadata": {},
   "source": [
    "# Separate Dependent(Y) and Independent(X) variable"
   ]
  },
  {
   "cell_type": "code",
   "execution_count": 11,
   "id": "a4078345",
   "metadata": {},
   "outputs": [],
   "source": [
    "x=df.drop('Weight',axis=1) #independent variable\n",
    "#x=df[['Height']] #2D value\n",
    "y=df['Weight'] #dependent variable"
   ]
  },
  {
   "cell_type": "code",
   "execution_count": null,
   "id": "2ab6f1af",
   "metadata": {},
   "outputs": [],
   "source": []
  },
  {
   "cell_type": "markdown",
   "id": "513580cb",
   "metadata": {},
   "source": [
    "# Spliting Dataset for traing and testing purpose"
   ]
  },
  {
   "cell_type": "code",
   "execution_count": 12,
   "id": "13809b5e",
   "metadata": {},
   "outputs": [],
   "source": [
    "from sklearn.model_selection import train_test_split\n",
    "xtrain,xtest,ytrain,ytest=train_test_split(x,y,train_size=0.7,random_state=3)#30% Data is set aside for tesing"
   ]
  },
  {
   "cell_type": "code",
   "execution_count": 13,
   "id": "cdca3e1c",
   "metadata": {},
   "outputs": [
    {
     "data": {
      "text/html": [
       "<div>\n",
       "<style scoped>\n",
       "    .dataframe tbody tr th:only-of-type {\n",
       "        vertical-align: middle;\n",
       "    }\n",
       "\n",
       "    .dataframe tbody tr th {\n",
       "        vertical-align: top;\n",
       "    }\n",
       "\n",
       "    .dataframe thead th {\n",
       "        text-align: right;\n",
       "    }\n",
       "</style>\n",
       "<table border=\"1\" class=\"dataframe\">\n",
       "  <thead>\n",
       "    <tr style=\"text-align: right;\">\n",
       "      <th></th>\n",
       "      <th>Height</th>\n",
       "    </tr>\n",
       "  </thead>\n",
       "  <tbody>\n",
       "    <tr>\n",
       "      <th>2010</th>\n",
       "      <td>70.433867</td>\n",
       "    </tr>\n",
       "    <tr>\n",
       "      <th>1902</th>\n",
       "      <td>61.764509</td>\n",
       "    </tr>\n",
       "    <tr>\n",
       "      <th>1231</th>\n",
       "      <td>71.350783</td>\n",
       "    </tr>\n",
       "    <tr>\n",
       "      <th>1089</th>\n",
       "      <td>69.385636</td>\n",
       "    </tr>\n",
       "    <tr>\n",
       "      <th>706</th>\n",
       "      <td>68.377580</td>\n",
       "    </tr>\n",
       "    <tr>\n",
       "      <th>...</th>\n",
       "      <td>...</td>\n",
       "    </tr>\n",
       "    <tr>\n",
       "      <th>3000</th>\n",
       "      <td>67.782658</td>\n",
       "    </tr>\n",
       "    <tr>\n",
       "      <th>1667</th>\n",
       "      <td>69.566622</td>\n",
       "    </tr>\n",
       "    <tr>\n",
       "      <th>3321</th>\n",
       "      <td>74.066879</td>\n",
       "    </tr>\n",
       "    <tr>\n",
       "      <th>1688</th>\n",
       "      <td>73.541184</td>\n",
       "    </tr>\n",
       "    <tr>\n",
       "      <th>1898</th>\n",
       "      <td>72.439501</td>\n",
       "    </tr>\n",
       "  </tbody>\n",
       "</table>\n",
       "<p>2450 rows × 1 columns</p>\n",
       "</div>"
      ],
      "text/plain": [
       "         Height\n",
       "2010  70.433867\n",
       "1902  61.764509\n",
       "1231  71.350783\n",
       "1089  69.385636\n",
       "706   68.377580\n",
       "...         ...\n",
       "3000  67.782658\n",
       "1667  69.566622\n",
       "3321  74.066879\n",
       "1688  73.541184\n",
       "1898  72.439501\n",
       "\n",
       "[2450 rows x 1 columns]"
      ]
     },
     "execution_count": 13,
     "metadata": {},
     "output_type": "execute_result"
    }
   ],
   "source": [
    "xtrain"
   ]
  },
  {
   "cell_type": "code",
   "execution_count": 14,
   "id": "b29ccf00",
   "metadata": {},
   "outputs": [
    {
     "data": {
      "text/plain": [
       "(2450, 1)"
      ]
     },
     "execution_count": 14,
     "metadata": {},
     "output_type": "execute_result"
    }
   ],
   "source": [
    "xtrain.shape #display the shape values for rows and columns"
   ]
  },
  {
   "cell_type": "code",
   "execution_count": 15,
   "id": "359201a3",
   "metadata": {},
   "outputs": [
    {
     "data": {
      "text/plain": [
       "(1051, 1)"
      ]
     },
     "execution_count": 15,
     "metadata": {},
     "output_type": "execute_result"
    }
   ],
   "source": [
    "xtest.shape"
   ]
  },
  {
   "cell_type": "markdown",
   "id": "2b76b122",
   "metadata": {},
   "source": [
    "# Fitting the model"
   ]
  },
  {
   "cell_type": "code",
   "execution_count": 16,
   "id": "c4c2af0d",
   "metadata": {},
   "outputs": [],
   "source": [
    "#Linear Regression model\n",
    "from sklearn.linear_model import LinearRegression\n",
    "model=LinearRegression()"
   ]
  },
  {
   "cell_type": "code",
   "execution_count": 17,
   "id": "bbd839ec",
   "metadata": {},
   "outputs": [
    {
     "data": {
      "text/plain": [
       "LinearRegression()"
      ]
     },
     "execution_count": 17,
     "metadata": {},
     "output_type": "execute_result"
    }
   ],
   "source": [
    "model.fit(xtrain,ytrain)#train data with the linear model"
   ]
  },
  {
   "cell_type": "code",
   "execution_count": 18,
   "id": "1e7756f7",
   "metadata": {},
   "outputs": [],
   "source": [
    "m=model.coef_ #coefficient value(m)"
   ]
  },
  {
   "cell_type": "code",
   "execution_count": 19,
   "id": "095bbd6c",
   "metadata": {},
   "outputs": [],
   "source": [
    "c=model.intercept_ #intercept value(c)"
   ]
  },
  {
   "cell_type": "code",
   "execution_count": 20,
   "id": "c7288e6f",
   "metadata": {},
   "outputs": [
    {
     "data": {
      "text/plain": [
       "array([216.63421472])"
      ]
     },
     "execution_count": 20,
     "metadata": {},
     "output_type": "execute_result"
    }
   ],
   "source": [
    "model.predict([[74.110105]]) #predict the weight where height=74.110105"
   ]
  },
  {
   "cell_type": "markdown",
   "id": "2ecb531b",
   "metadata": {},
   "source": [
    "# y=mx+c"
   ]
  },
  {
   "cell_type": "code",
   "execution_count": 21,
   "id": "c0e8df5c",
   "metadata": {},
   "outputs": [
    {
     "data": {
      "text/plain": [
       "array([216.63421472])"
      ]
     },
     "execution_count": 21,
     "metadata": {},
     "output_type": "execute_result"
    }
   ],
   "source": [
    "y=m*74.110105+c #compare with model predict value\n",
    "y"
   ]
  },
  {
   "cell_type": "markdown",
   "id": "d6919bf9",
   "metadata": {},
   "source": [
    "# Draw the best Fit line"
   ]
  },
  {
   "cell_type": "code",
   "execution_count": 29,
   "id": "b0bf53fd",
   "metadata": {},
   "outputs": [],
   "source": [
    "out=model.predict(xtest)"
   ]
  },
  {
   "cell_type": "code",
   "execution_count": 30,
   "id": "5ff9c23c",
   "metadata": {},
   "outputs": [],
   "source": [
    "#df['out']=model.predict(x)\n",
    "#df.shape"
   ]
  },
  {
   "cell_type": "code",
   "execution_count": 31,
   "id": "11949fcc",
   "metadata": {},
   "outputs": [
    {
     "data": {
      "image/png": "[encoded data removed]",
      "text/plain": [
       "<Figure size 720x648 with 1 Axes>"
      ]
     },
     "metadata": {
      "needs_background": "light"
     },
     "output_type": "display_data"
    }
   ],
   "source": [
    "#display the scatter plot\n",
    "plt.figure(figsize=(10,9))\n",
    "plt.plot(xtest,out,color='red')#draw the best fit line\n",
    "plt.scatter(df.Height,df.Weight)#draw the scatter plot\n",
    "#plt.scatter(df['Height'],df['Weight'])\n",
    "plt.title(\"Height vs Weight\",fontsize=16,fontweight='bold',color='gray')\n",
    "plt.xlabel(\"Height\",fontsize=13,fontweight='bold',color='black')\n",
    "plt.ylabel(\"Weight\",fontsize=13,fontweight='bold',color='red')\n",
    "#plt.xlim(60,83,2)\n",
    "plt.savefig('diet.png')\n",
    "plt.show()"
   ]
  },
  {
   "cell_type": "code",
   "execution_count": 32,
   "id": "b7af40a5",
   "metadata": {},
   "outputs": [
    {
     "data": {
      "text/plain": [
       "0.7497685775555982"
      ]
     },
     "execution_count": 32,
     "metadata": {},
     "output_type": "execute_result"
    }
   ],
   "source": [
    "model.score(xtest,ytest)#find the accuracy "
   ]
  },
  {
   "cell_type": "markdown",
   "id": "b9cfd7bd",
   "metadata": {},
   "source": [
    "**Notes:**\n",
    "1. This model gives accuracy of 75% which is not quite good\n"
   ]
  },
  {
   "cell_type": "code",
   "execution_count": null,
   "id": "c9be477f",
   "metadata": {},
   "outputs": [],
   "source": []
  }
 ],
 "metadata": {
  "kernelspec": {
   "display_name": "Python 3 (ipykernel)",
   "language": "python",
   "name": "python3"
  },
  "language_info": {
   "codemirror_mode": {
    "name": "ipython",
    "version": 3
   },
   "file_extension": ".py",
   "mimetype": "text/x-python",
   "name": "python",
   "nbconvert_exporter": "python",
   "pygments_lexer": "ipython3",
   "version": "3.8.11"
  }
 },
 "nbformat": 4,
 "nbformat_minor": 5
}
